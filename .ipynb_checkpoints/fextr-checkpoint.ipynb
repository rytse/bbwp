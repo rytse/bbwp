{
 "cells": [
  {
   "cell_type": "code",
   "execution_count": 1,
   "metadata": {},
   "outputs": [],
   "source": [
    "import numpy as np\n",
    "import matplotlib.pyplot as plt\n",
    "import pandas as pd\n",
    "from scipy import stats\n",
    "from sklearn import linear_model\n",
    "from sklearn.decomposition import PCA\n",
    "from sklearn.preprocessing import StandardScaler\n",
    "\n",
    "%matplotlib notebook"
   ]
  },
  {
   "cell_type": "code",
   "execution_count": 25,
   "metadata": {},
   "outputs": [
    {
     "name": "stdout",
     "output_type": "stream",
     "text": [
      "    Bat  BatAge    G    PA    AB    R     H   2B  3B   HR  ...    BF  ERA+  \\\n",
      "0    49    29.2  162  6157  5460  693  1283  259  50  176  ...  6139   117   \n",
      "1    58    27.3  162  6266  5582  759  1433  314  29  175  ...  6155   108   \n",
      "2    56    28.4  162  6034  5507  622  1317  242  15  188  ...  6340    80   \n",
      "3    44    27.7  162  6302  5623  876  1509  355  31  208  ...  6166   117   \n",
      "4    50    27.2  163  6369  5624  761  1453  286  34  167  ...  6264   118   \n",
      "5    51    26.5  162  6071  5523  656  1332  259  40  182  ...  6339    87   \n",
      "6    53    27.2  162  6240  5532  696  1404  251  25  172  ...  6279    91   \n",
      "7    49    29.4  162  6300  5595  818  1447  297  19  216  ...  6071   116   \n",
      "8    41    28.7  163  6178  5541  780  1418  280  42  210  ...  6154   108   \n",
      "9    49    27.9  162  6029  5494  630  1326  284  35  135  ...  6130    95   \n",
      "10   41    28.2  162  6146  5453  797  1390  278  18  205  ...  5913   130   \n",
      "11   49    28.6  162  6063  5505  638  1350  283  29  155  ...  6284    87   \n",
      "12   60    29.6  162  6108  5472  721  1323  249  23  214  ...  6108   101   \n",
      "13   52    28.1  163  6358  5572  804  1394  296  33  235  ...  6096   115   \n",
      "14   51    27.5  161  6083  5488  589  1303  222  24  128  ...  6236    77   \n",
      "15   53    28.8  163  6210  5542  754  1398  252  24  218  ...  6114   110   \n",
      "16   54    28.2  162  6154  5526  738  1380  318  22  166  ...  6287    98   \n",
      "17   56    28.3  162  6177  5468  676  1282  265  34  170  ...  6178    91   \n",
      "18   49    27.2  162  6271  5515  851  1374  269  23  267  ...  6141   116   \n",
      "19   53    28.0  162  6255  5579  813  1407  322  20  227  ...  6099   109   \n",
      "20   48    26.7  162  6136  5424  677  1271  241  30  186  ...  6138   101   \n",
      "21   48    27.8  161  6066  5447  692  1381  290  38  157  ...  6144    97   \n",
      "22   49    26.8  162  6059  5486  617  1289  250  30  162  ...  6254    88   \n",
      "23   53    29.8  162  6087  5513  677  1402  256  32  176  ...  6073    99   \n",
      "24   48    29.8  162  6113  5541  603  1324  255  30  133  ...  6191    99   \n",
      "25   49    28.0  162  6200  5498  759  1369  248   9  205  ...  6271   101   \n",
      "26   54    27.1  162  6195  5475  716  1415  274  43  150  ...  5992   111   \n",
      "27   50    27.4  162  6163  5453  737  1308  266  24  194  ...  6231    99   \n",
      "28   63    28.9  162  6076  5477  709  1336  320  16  217  ...  6265    87   \n",
      "29   53    27.6  162  6288  5517  771  1402  284  25  191  ...  6087   106   \n",
      "\n",
      "     FIP   WHIP   H9  HR9  BB9   SO9  SO/W  LOB.1  \n",
      "0   3.91  1.254  8.1  1.1  3.2   8.9  2.77   1106  \n",
      "1   3.98  1.284  7.6  0.9  3.9   8.8  2.24   1128  \n",
      "2   4.98  1.496  9.8  1.5  3.7   7.6  2.04   1155  \n",
      "3   3.82  1.246  8.1  1.1  3.2   9.6  3.04   1143  \n",
      "4   4.14  1.315  8.0  1.0  3.8   8.1  2.14   1190  \n",
      "5   4.73  1.432  8.8  1.2  4.1   7.9  1.93   1180  \n",
      "6   4.66  1.404  9.3  1.4  3.3   7.9  2.36   1137  \n",
      "7   3.79  1.205  8.3  1.2  2.5   9.5  3.79   1051  \n",
      "8   4.06  1.310  8.5  1.1  3.3   8.7  2.68   1052  \n",
      "9   4.59  1.343  9.0  1.4  3.1   7.7  2.47   1058  \n",
      "10  3.23  1.099  7.2  0.9  2.7  10.4  3.88   1014  \n",
      "11  4.66  1.460  9.7  1.3  3.5   7.3  2.11   1155  \n",
      "12  4.36  1.321  8.5  1.3  3.4   8.7  2.54   1074  \n",
      "13  3.60  1.152  7.8  1.1  2.6   9.5  3.71   1058  \n",
      "14  4.57  1.382  8.7  1.2  3.8   7.8  2.06   1101  \n",
      "15  4.01  1.240  7.8  1.1  3.4   8.8  2.58   1072  \n",
      "16  4.39  1.384  8.9  1.2  3.6   8.6  2.40   1182  \n",
      "17  3.97  1.265  8.4  1.1  3.0   8.9  2.99   1089  \n",
      "18  3.63  1.239  8.1  1.1  3.1  10.1  3.31   1103  \n",
      "19  4.18  1.212  8.0  1.1  2.9   7.6  2.61   1028  \n",
      "20  3.83  1.291  8.5  1.1  3.1   9.1  2.93   1073  \n",
      "21  4.06  1.309  8.7  1.1  3.1   8.4  2.69   1149  \n",
      "22  4.10  1.338  8.8  1.1  3.2   8.6  2.70   1116  \n",
      "23  4.05  1.240  8.7  1.2  2.5   8.3  3.32   1016  \n",
      "24  3.98  1.308  8.5  1.0  3.2   7.8  2.42   1108  \n",
      "25  3.97  1.338  8.4  0.9  3.7   8.3  2.25   1214  \n",
      "26  3.82  1.199  7.7  1.0  3.1   8.8  2.84   1001  \n",
      "27  4.79  1.403  9.5  1.4  3.1   7.1  2.28   1090  \n",
      "28  4.53  1.414  9.3  1.3  3.5   8.1  2.36   1132  \n",
      "29  4.15  1.250  8.2  1.2  3.0   8.8  2.91   1067  \n",
      "\n",
      "[30 rows x 58 columns]\n",
      "[0.55952501 0.15265538]\n",
      "[1423.31726674  743.44359014]\n"
     ]
    }
   ],
   "source": [
    "raw = pd.read_excel('./raw.xlsx', sheet_name='Batting')\n",
    "\n",
    "x = raw.loc[:, raw.columns != 'W-L%']\n",
    "x = x.loc[:, x.columns != 'Tm']\n",
    "y = raw['W-L%']\n",
    "\n",
    "pca = PCA(n_components=len(x))\n",
    "pca.fit(x)\n",
    "\n",
    "plt.plot(np.cumsum(pca.explained_variance_ratio_))\n",
    "plt.xlabel('Number of Components')\n",
    "plt.ylabel('Total Explained Variance')"
   ]
  },
  {
   "cell_type": "code",
   "execution_count": 16,
   "metadata": {},
   "outputs": [
    {
     "name": "stderr",
     "output_type": "stream",
     "text": [
      "/home/rytse/anaconda3/lib/python3.6/site-packages/pandas/core/ops.py:1649: FutureWarning: elementwise comparison failed; returning scalar instead, but in the future will perform elementwise comparison\n",
      "  result = method(y)\n"
     ]
    },
    {
     "data": {
      "image/png": "[encoded data removed]",
      "text/plain": [
       "<Figure size 576x576 with 1 Axes>"
      ]
     },
     "metadata": {
      "needs_background": "light"
     },
     "output_type": "display_data"
    }
   ],
   "source": [
    "principleComponents = pca.fit_transform(x.values)\n",
    "principleDf = pd.DataFrame(data = principleComponents\n",
    "             , columns = ['principle component 1', 'principle component 2'])\n",
    "\n",
    "finalDf = pd.concat([principleDf, raw[['W-L%']]], axis = 1)\n",
    "\n",
    "fig = plt.figure(figsize = (8,8))\n",
    "ax = fig.add_subplot(1,1,1) \n",
    "ax.set_xlabel('principle Component 1', fontsize = 15)\n",
    "ax.set_ylabel('principle Component 2', fontsize = 15)\n",
    "ax.set_title('2 component PCA', fontsize = 20)\n",
    "\n",
    "targets = ['Iris-setosa', 'Iris-versicolor', 'Iris-virginica']\n",
    "colors = ['r', 'g', 'b']\n",
    "for target, color in zip(targets,colors):\n",
    "    indicesToKeep = finalDf['W-L%'] == target\n",
    "    ax.scatter(finalDf.loc[indicesToKeep, 'principle component 1']\n",
    "               , finalDf.loc[indicesToKeep, 'principle component 2']\n",
    "               , c = color\n",
    "               , s = 50)\n",
    "ax.legend(targets)\n",
    "ax.grid()"
   ]
  },
  {
   "cell_type": "code",
   "execution_count": null,
   "metadata": {},
   "outputs": [],
   "source": []
  }
 ],
 "metadata": {
  "kernelspec": {
   "display_name": "Python 3",
   "language": "python",
   "name": "python3"
  },
  "language_info": {
   "codemirror_mode": {
    "name": "ipython",
    "version": 3
   },
   "file_extension": ".py",
   "mimetype": "text/x-python",
   "name": "python",
   "nbconvert_exporter": "python",
   "pygments_lexer": "ipython3",
   "version": "3.6.8"
  }
 },
 "nbformat": 4,
 "nbformat_minor": 2
}
